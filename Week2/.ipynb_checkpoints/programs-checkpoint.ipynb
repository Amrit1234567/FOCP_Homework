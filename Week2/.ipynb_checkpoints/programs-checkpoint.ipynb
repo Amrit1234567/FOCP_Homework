{
 "cells": [
  {
   "cell_type": "code",
   "execution_count": 1,
   "id": "2cda1c50",
   "metadata": {},
   "outputs": [
    {
     "name": "stdout",
     "output_type": "stream",
     "text": [
      "Hello, what is your name? Mr Apricot\n",
      "Hello, Mr Apricot. Good to meet you!\n"
     ]
    }
   ],
   "source": [
    "name = input(\"Hello, what is your name? \")\n",
    "print(f\"Hello, {name}. Good to meet you!\")"
   ]
  },
  {
   "cell_type": "code",
   "execution_count": 2,
   "id": "203dfff5",
   "metadata": {},
   "outputs": [
    {
     "name": "stdout",
     "output_type": "stream",
     "text": [
      "Enter a temperature in Celsius: 32.5\n",
      "32.5C is equivalent to 90.5F\n"
     ]
    }
   ],
   "source": [
    "celsius_temp = float(input(\"Enter a temperature in Celsius: \"))\n",
    "fahrenheit = celsius_temp * (9/5) + 32\n",
    "print(f\"{celsius_temp}C is equivalent to {fahrenheit}F\")"
   ]
  },
  {
   "cell_type": "code",
   "execution_count": null,
   "id": "6cbf1a06",
   "metadata": {},
   "outputs": [],
   "source": [
    "no_of_students = int(input(\"How many students? \"))\n",
    "group_size = int(input(\"Required group size? \"))\n",
    "no_of_groups = no_of_students//group_size\n",
    "left_over = no_of_students%group_size\n",
    "if left_over == 1:\n",
    "    message = \"There will be \" + str(no_of_groups) + \" groups with \" + str{left_over} + \"student left over.\"\n",
    "else:\n",
    "    message = \"There will be \" + str(no_of_groups) + \" groups with \" + str{left_over} + \"students left over.\"\n",
    "print(message)"
   ]
  },
  {
   "cell_type": "code",
   "execution_count": null,
   "id": "67346892",
   "metadata": {},
   "outputs": [],
   "source": []
  }
 ],
 "metadata": {
  "kernelspec": {
   "display_name": "Python 3",
   "language": "python",
   "name": "python3"
  },
  "language_info": {
   "codemirror_mode": {
    "name": "ipython",
    "version": 3
   },
   "file_extension": ".py",
   "mimetype": "text/x-python",
   "name": "python",
   "nbconvert_exporter": "python",
   "pygments_lexer": "ipython3",
   "version": "3.8.8"
  }
 },
 "nbformat": 4,
 "nbformat_minor": 5
}
