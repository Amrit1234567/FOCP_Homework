{
 "cells": [
  {
   "cell_type": "code",
   "execution_count": 3,
   "id": "66593627",
   "metadata": {},
   "outputs": [
    {
     "data": {
      "text/plain": [
       "False"
      ]
     },
     "execution_count": 3,
     "metadata": {},
     "output_type": "execute_result"
    }
   ],
   "source": [
    "def validate_int(num):\n",
    "    return 0<=num<=100\n",
    "\n",
    "validate_int(180)"
   ]
  },
  {
   "cell_type": "code",
   "execution_count": 4,
   "id": "c44f6dc0",
   "metadata": {},
   "outputs": [
    {
     "data": {
      "text/plain": [
       "'number of uppercase letter is 4 numeber of lowercase letter is 9'"
      ]
     },
     "execution_count": 4,
     "metadata": {},
     "output_type": "execute_result"
    }
   ],
   "source": [
    "def case_letters(string):\n",
    "    uppercase = 0\n",
    "    lowercase = 0\n",
    "    for x in string:\n",
    "        if ord(x)>95:\n",
    "            lowercase += 1\n",
    "        elif ord(x)>=65:\n",
    "            uppercase += 1\n",
    "    return f\"number of uppercase letter is {uppercase} numeber of lowercase letter is {lowercase}\"\n",
    "\n",
    "case_letters(\"My Name Is Amrit\")"
   ]
  },
  {
   "cell_type": "code",
   "execution_count": 5,
   "id": "c5bfec6f",
   "metadata": {},
   "outputs": [
    {
     "data": {
      "text/plain": [
       "'Malta'"
      ]
     },
     "execution_count": 5,
     "metadata": {},
     "output_type": "execute_result"
    }
   ],
   "source": [
    "def capitalize(char):\n",
    "    if ord(char)>=97:\n",
    "        return chr(ord(char)-32)\n",
    "    return char\n",
    "\n",
    "def lowercase(char):\n",
    "    return char if ord(char)>= 97 else chr(ord(char)+32)\n",
    "\n",
    "def greeting(name):\n",
    "    new_name = \"\"\n",
    "    for x in range(len(name)):\n",
    "        if x == 0:\n",
    "            new_name += capitalize(name[x])\n",
    "        else:\n",
    "            new_name += lowercase(name[x])\n",
    "    return new_name\n",
    "\n",
    "greeting(\"MaLta\")"
   ]
  },
  {
   "cell_type": "code",
   "execution_count": 6,
   "id": "673948d0",
   "metadata": {},
   "outputs": [
    {
     "data": {
      "text/plain": [
       "'hell'"
      ]
     },
     "execution_count": 6,
     "metadata": {},
     "output_type": "execute_result"
    }
   ],
   "source": [
    "def process_data(string):\n",
    "    if len(string)<=1:\n",
    "        return string\n",
    "    return string[:-1]\n",
    "process_data(\"hello\")"
   ]
  },
  {
   "cell_type": "code",
   "execution_count": 7,
   "id": "604db5cf",
   "metadata": {},
   "outputs": [
    {
     "data": {
      "text/plain": [
       "98.60000000000001"
      ]
     },
     "execution_count": 7,
     "metadata": {},
     "output_type": "execute_result"
    }
   ],
   "source": [
    "def to_fahrenheit(celsius):\n",
    "    return 1.8*celsius + 32\n",
    "to_fahrenheit(37)"
   ]
  },
  {
   "cell_type": "code",
   "execution_count": 8,
   "id": "f496a7f1",
   "metadata": {},
   "outputs": [
    {
     "data": {
      "text/plain": [
       "'98.60000000000001 F'"
      ]
     },
     "execution_count": 8,
     "metadata": {},
     "output_type": "execute_result"
    }
   ],
   "source": [
    "def to_fahren(celsius):\n",
    "    data = float(process_data(celsius))\n",
    "    return f\"{to_fahrenheit(data)} F\"\n",
    "to_fahren(\"37C\")"
   ]
  },
  {
   "cell_type": "code",
   "execution_count": 12,
   "id": "8c557c50",
   "metadata": {
    "scrolled": true
   },
   "outputs": [
    {
     "name": "stdout",
     "output_type": "stream",
     "text": [
      "Enter a celsius value: 32c\n",
      "Enter a celsius value: 12c\n",
      "Enter a celsius value: 45c\n",
      "Enter a celsius value: 34\n",
      "Enter a celsius value: 34c\n",
      "Enter a celsius value: 45c\n",
      "Maximum:  113.0 \n",
      "Minimum:  37.4 \n",
      "Mean:  83.3\n"
     ]
    }
   ],
   "source": [
    "def enter_values(size):\n",
    "    lst = []\n",
    "    for x in range(size):\n",
    "        temp = input(\"Enter a celsius value: \")\n",
    "        lst.append(to_fahren(temp))\n",
    "    lst = [float(x[:-1]) for x in lst]\n",
    "    return lst\n",
    "\n",
    "size = 6\n",
    "lst = enter_values(size)\n",
    "print(\"Maximum: \",max(lst),\"\\nMinimum: \", min(lst), \"\\nMean: \", sum(lst)/size)"
   ]
  },
  {
   "cell_type": "code",
   "execution_count": 13,
   "id": "68e1c173",
   "metadata": {},
   "outputs": [
    {
     "name": "stdout",
     "output_type": "stream",
     "text": [
      "Enter a celsius value: 54c\n",
      "Enter a celsius value: 34c\n",
      "Enter a celsius value: 23\n",
      "Enter a celsius value: 45c\n",
      "Enter a celsius value: \n",
      "Maximum:  129.2 \n",
      "Minimum:  35.6 \n",
      "Mean:  92.75\n"
     ]
    }
   ],
   "source": [
    "def enter_values():\n",
    "    lst = []\n",
    "    while True:\n",
    "        temp = input(\"Enter a celsius value: \")\n",
    "        if not temp:\n",
    "            break\n",
    "        lst.append(to_fahren(temp))\n",
    "        \n",
    "            \n",
    "    lst = [float(x[:-1]) for x in lst]\n",
    "    return lst\n",
    "lst = enter_values()\n",
    "if lst:\n",
    "    print(\"Maximum: \",max(lst),\"\\nMinimum: \", min(lst), \"\\nMean: \", sum(lst)/len(lst))"
   ]
  },
  {
   "cell_type": "code",
   "execution_count": null,
   "id": "43c19612",
   "metadata": {},
   "outputs": [],
   "source": [
    "#def (c-0)/100 = (f-32)/180"
   ]
  }
 ],
 "metadata": {
  "kernelspec": {
   "display_name": "Python 3",
   "language": "python",
   "name": "python3"
  },
  "language_info": {
   "codemirror_mode": {
    "name": "ipython",
    "version": 3
   },
   "file_extension": ".py",
   "mimetype": "text/x-python",
   "name": "python",
   "nbconvert_exporter": "python",
   "pygments_lexer": "ipython3",
   "version": "3.8.8"
  }
 },
 "nbformat": 4,
 "nbformat_minor": 5
}
