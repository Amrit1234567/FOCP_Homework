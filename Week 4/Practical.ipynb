{
 "cells": [
  {
   "cell_type": "code",
   "execution_count": 2,
   "id": "9f138f8d",
   "metadata": {},
   "outputs": [
    {
     "name": "stdout",
     "output_type": "stream",
     "text": [
      "49.0\n"
     ]
    }
   ],
   "source": [
    "import math\n",
    "\n",
    "result = math.sqrt(2401)\n",
    "print(result)"
   ]
  },
  {
   "cell_type": "code",
   "execution_count": 5,
   "id": "4687dd5b",
   "metadata": {},
   "outputs": [
    {
     "name": "stdout",
     "output_type": "stream",
     "text": [
      "10.0\n"
     ]
    }
   ],
   "source": [
    "from math import log2\n",
    "result = log2(1024)\n",
    "print(result)"
   ]
  },
  {
   "cell_type": "code",
   "execution_count": 6,
   "id": "1a7d9d55",
   "metadata": {},
   "outputs": [
    {
     "name": "stdout",
     "output_type": "stream",
     "text": [
      "Hello World\n",
      "Hello World\n"
     ]
    }
   ],
   "source": [
    "def displayTwice(msg):\n",
    "    print(msg)\n",
    "    print(msg)\n",
    "\n",
    "displayTwice(\"Hello World\")"
   ]
  },
  {
   "cell_type": "code",
   "execution_count": 12,
   "id": "e52abd7b",
   "metadata": {},
   "outputs": [
    {
     "name": "stdout",
     "output_type": "stream",
     "text": [
      "Help on function displayTwice in module __main__:\n",
      "\n",
      "displayTwice(msg)\n",
      "    displays the argument passed twice\n",
      "\n"
     ]
    }
   ],
   "source": [
    "def displayTwice(msg):\n",
    "    \"\"\"\n",
    "         displays the argument passed twice\n",
    "    \"\"\"\n",
    "    print(msg)\n",
    "    print(msg)\n",
    "\n",
    "help(displayTwice)"
   ]
  },
  {
   "cell_type": "code",
   "execution_count": 15,
   "id": "0a0463d1",
   "metadata": {},
   "outputs": [
    {
     "data": {
      "text/plain": [
       "6"
      ]
     },
     "execution_count": 15,
     "metadata": {},
     "output_type": "execute_result"
    }
   ],
   "source": [
    "def findMax(a,b):\n",
    "    \"\"\"Finds the maximum of two values.\"\"\"\n",
    "    if ( a > b ):\n",
    "        max = a\n",
    "    else:\n",
    "        max = b\n",
    "    return max\n",
    "\n",
    "findMax(6,3)"
   ]
  },
  {
   "cell_type": "code",
   "execution_count": 17,
   "id": "b516b790",
   "metadata": {},
   "outputs": [
    {
     "data": {
      "text/plain": [
       "9"
      ]
     },
     "execution_count": 17,
     "metadata": {},
     "output_type": "execute_result"
    }
   ],
   "source": [
    "def mul_args(num1, num2=-1):\n",
    "    if num2 == -1:\n",
    "        return num1*num1\n",
    "    return num1*num2\n",
    "mul_args(3)"
   ]
  },
  {
   "cell_type": "code",
   "execution_count": 6,
   "id": "b23a711e",
   "metadata": {},
   "outputs": [
    {
     "name": "stdout",
     "output_type": "stream",
     "text": [
      "x is 1 \n",
      "y is 2 \n",
      "z is 3\n",
      "x is 1 \n",
      "y is 6 \n",
      "z is 3\n"
     ]
    }
   ],
   "source": [
    "def someFunc(x, y, z):\n",
    "    print(\"x is\", x, \"\\ny is\", y, \"\\nz is\", z)\n",
    "someFunc(y=2, z=3, x=1)\n",
    "someFunc(y=6, x=1, z=3)"
   ]
  },
  {
   "cell_type": "code",
   "execution_count": 11,
   "id": "7b2920f4",
   "metadata": {},
   "outputs": [
    {
     "name": "stdout",
     "output_type": "stream",
     "text": [
      "AMert#Sharma\n"
     ]
    }
   ],
   "source": [
    "print(\"AMert\",\"Sharma\",sep = \"#\")"
   ]
  },
  {
   "cell_type": "code",
   "execution_count": 12,
   "id": "55812a96",
   "metadata": {},
   "outputs": [
    {
     "data": {
      "text/plain": [
       "115.2"
      ]
     },
     "execution_count": 12,
     "metadata": {},
     "output_type": "execute_result"
    }
   ],
   "source": [
    "def calcAvg(*numbers):\n",
    "    total = 0\n",
    "    for x in numbers:\n",
    "        total += x\n",
    "    return total/len(numbers)\n",
    "\n",
    "calcAvg(12,344,56,77,87)"
   ]
  },
  {
   "cell_type": "code",
   "execution_count": 14,
   "id": "93c7c200",
   "metadata": {},
   "outputs": [
    {
     "data": {
      "text/plain": [
       "float"
      ]
     },
     "execution_count": 14,
     "metadata": {},
     "output_type": "execute_result"
    }
   ],
   "source": [
    "import math\n",
    "hypot = lambda a,b : type(math.sqrt(a * a + b * b))\n",
    "hypot(3,4)"
   ]
  },
  {
   "cell_type": "code",
   "execution_count": 21,
   "id": "4666a352",
   "metadata": {},
   "outputs": [
    {
     "data": {
      "text/plain": [
       "13500"
      ]
     },
     "execution_count": 21,
     "metadata": {},
     "output_type": "execute_result"
    }
   ],
   "source": [
    "to_seconds = lambda hours, minutes: hours*60*60+minutes*60\n",
    "to_seconds(3,45)"
   ]
  },
  {
   "cell_type": "code",
   "execution_count": 23,
   "id": "7cd67575",
   "metadata": {},
   "outputs": [
    {
     "data": {
      "text/plain": [
       "3600"
      ]
     },
     "execution_count": 23,
     "metadata": {},
     "output_type": "execute_result"
    }
   ],
   "source": [
    "to_seconds = lambda hours, minutes=0: hours*60*60+minutes*60\n",
    "to_seconds(1)"
   ]
  },
  {
   "cell_type": "code",
   "execution_count": 27,
   "id": "c3151f69",
   "metadata": {},
   "outputs": [
    {
     "data": {
      "text/plain": [
       "-0.3048106211022167"
      ]
     },
     "execution_count": 27,
     "metadata": {},
     "output_type": "execute_result"
    }
   ],
   "source": [
    "import math\n",
    "math.sin(60)"
   ]
  },
  {
   "cell_type": "code",
   "execution_count": 29,
   "id": "117a8639",
   "metadata": {},
   "outputs": [
    {
     "data": {
      "text/plain": [
       "'*****Hello and welcome'"
      ]
     },
     "execution_count": 29,
     "metadata": {},
     "output_type": "execute_result"
    }
   ],
   "source": [
    "def print_header(msg):\n",
    "    return f\"*****{msg}\"\n",
    "print_header(\"Hello and welcome\")"
   ]
  },
  {
   "cell_type": "code",
   "execution_count": null,
   "id": "4660f2d4",
   "metadata": {},
   "outputs": [],
   "source": []
  }
 ],
 "metadata": {
  "kernelspec": {
   "display_name": "Python 3",
   "language": "python",
   "name": "python3"
  },
  "language_info": {
   "codemirror_mode": {
    "name": "ipython",
    "version": 3
   },
   "file_extension": ".py",
   "mimetype": "text/x-python",
   "name": "python",
   "nbconvert_exporter": "python",
   "pygments_lexer": "ipython3",
   "version": "3.8.8"
  }
 },
 "nbformat": 4,
 "nbformat_minor": 5
}
