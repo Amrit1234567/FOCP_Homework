{
 "cells": [
  {
   "cell_type": "code",
   "execution_count": 1,
   "id": "ae9fd09e",
   "metadata": {},
   "outputs": [
    {
     "name": "stdout",
     "output_type": "stream",
     "text": [
      "The total is 100\n"
     ]
    }
   ],
   "source": [
    "total = 100\n",
    "print(\"The total is\", total)"
   ]
  },
  {
   "cell_type": "code",
   "execution_count": 2,
   "id": "65f7017e",
   "metadata": {},
   "outputs": [
    {
     "name": "stdout",
     "output_type": "stream",
     "text": [
      "The total is now 199\n"
     ]
    }
   ],
   "source": [
    "total = total + 99\n",
    "print(\"The total is now\", total)"
   ]
  },
  {
   "cell_type": "code",
   "execution_count": 3,
   "id": "41eb8a2c",
   "metadata": {},
   "outputs": [
    {
     "name": "stdout",
     "output_type": "stream",
     "text": [
      "The total is 198\n",
      "The total is 792\n",
      "The total is 396.0\n"
     ]
    }
   ],
   "source": [
    "total -=1 \n",
    "print(\"The total is\", total)\n",
    "\n",
    "total *= 4\n",
    "print(\"The total is\", total)\n",
    "\n",
    "total /= 2\n",
    "print(\"The total is\", total)"
   ]
  },
  {
   "cell_type": "code",
   "execution_count": 4,
   "id": "c34647f7",
   "metadata": {},
   "outputs": [
    {
     "name": "stdout",
     "output_type": "stream",
     "text": [
      "Total:  98.2\n",
      "Count:  5\n",
      "Average:  19.64\n"
     ]
    }
   ],
   "source": [
    "total = 98.2\n",
    "count = 5\n",
    "average = total/count\n",
    "\n",
    "print(\"Total: \", total)\n",
    "print(\"Count: \", count)\n",
    "print(\"Average: \", average)"
   ]
  },
  {
   "cell_type": "code",
   "execution_count": 5,
   "id": "5b32211d",
   "metadata": {},
   "outputs": [
    {
     "data": {
      "text/plain": [
       "bool"
      ]
     },
     "execution_count": 5,
     "metadata": {},
     "output_type": "execute_result"
    }
   ],
   "source": [
    "type(False)"
   ]
  },
  {
   "cell_type": "code",
   "execution_count": 6,
   "id": "e4204871",
   "metadata": {},
   "outputs": [
    {
     "data": {
      "text/plain": [
       "int"
      ]
     },
     "execution_count": 6,
     "metadata": {},
     "output_type": "execute_result"
    }
   ],
   "source": [
    "type(1000)"
   ]
  },
  {
   "cell_type": "code",
   "execution_count": 7,
   "id": "b967a7d0",
   "metadata": {},
   "outputs": [
    {
     "data": {
      "text/plain": [
       "float"
      ]
     },
     "execution_count": 7,
     "metadata": {},
     "output_type": "execute_result"
    }
   ],
   "source": [
    "type(100.111)"
   ]
  },
  {
   "cell_type": "code",
   "execution_count": 8,
   "id": "512f3149",
   "metadata": {},
   "outputs": [
    {
     "data": {
      "text/plain": [
       "str"
      ]
     },
     "execution_count": 8,
     "metadata": {},
     "output_type": "execute_result"
    }
   ],
   "source": [
    "type(\"Hello\")"
   ]
  },
  {
   "cell_type": "code",
   "execution_count": 9,
   "id": "a92e10b0",
   "metadata": {},
   "outputs": [
    {
     "data": {
      "text/plain": [
       "bool"
      ]
     },
     "execution_count": 9,
     "metadata": {},
     "output_type": "execute_result"
    }
   ],
   "source": [
    "type(True)"
   ]
  },
  {
   "cell_type": "code",
   "execution_count": 10,
   "id": "510048b7",
   "metadata": {},
   "outputs": [
    {
     "data": {
      "text/plain": [
       "float"
      ]
     },
     "execution_count": 10,
     "metadata": {},
     "output_type": "execute_result"
    }
   ],
   "source": [
    "type(100/5)"
   ]
  },
  {
   "cell_type": "code",
   "execution_count": 11,
   "id": "e4544816",
   "metadata": {},
   "outputs": [
    {
     "data": {
      "text/plain": [
       "int"
      ]
     },
     "execution_count": 11,
     "metadata": {},
     "output_type": "execute_result"
    }
   ],
   "source": [
    "type(100//5)"
   ]
  },
  {
   "cell_type": "code",
   "execution_count": 14,
   "id": "854174c1",
   "metadata": {},
   "outputs": [
    {
     "data": {
      "text/plain": [
       "'ABCABCABCABCABCABCABCABCABCABC'"
      ]
     },
     "execution_count": 14,
     "metadata": {},
     "output_type": "execute_result"
    }
   ],
   "source": [
    "\"ABC\" * 10"
   ]
  },
  {
   "cell_type": "code",
   "execution_count": 15,
   "id": "78c0990d",
   "metadata": {},
   "outputs": [
    {
     "name": "stdout",
     "output_type": "stream",
     "text": [
      "Name:\t Amrit\n",
      "Address:\t Dhungedhara\n",
      "Contact:\t 9862425475\n",
      "Length of Name:\t 5\n"
     ]
    }
   ],
   "source": [
    "name = \"Amrit\"\n",
    "address = \"Dhungedhara\"\n",
    "contact_no = \"9862425475\"\n",
    "\n",
    "print(\"Name:\\t\", name)\n",
    "print(\"Address:\\t\", address)\n",
    "print(\"Contact:\\t\", contact_no)\n",
    "print(\"Length of Name:\\t\", len(name))"
   ]
  },
  {
   "cell_type": "code",
   "execution_count": 16,
   "id": "df44d5f9",
   "metadata": {},
   "outputs": [
    {
     "name": "stdout",
     "output_type": "stream",
     "text": [
      "Enter your age 22\n"
     ]
    },
    {
     "ename": "TypeError",
     "evalue": "can only concatenate str (not \"int\") to str",
     "output_type": "error",
     "traceback": [
      "\u001b[1;31m---------------------------------------------------------------------------\u001b[0m",
      "\u001b[1;31mTypeError\u001b[0m                                 Traceback (most recent call last)",
      "\u001b[1;32m<ipython-input-16-17ca26d73445>\u001b[0m in \u001b[0;36m<module>\u001b[1;34m\u001b[0m\n\u001b[0;32m      1\u001b[0m \u001b[0mage\u001b[0m \u001b[1;33m=\u001b[0m \u001b[0minput\u001b[0m\u001b[1;33m(\u001b[0m\u001b[1;34m\"Enter your age \"\u001b[0m\u001b[1;33m)\u001b[0m\u001b[1;33m\u001b[0m\u001b[1;33m\u001b[0m\u001b[0m\n\u001b[1;32m----> 2\u001b[1;33m \u001b[0mprint\u001b[0m\u001b[1;33m(\u001b[0m\u001b[1;34m\"in one year your age will be\"\u001b[0m\u001b[1;33m,\u001b[0m \u001b[0mage\u001b[0m \u001b[1;33m+\u001b[0m \u001b[1;36m1\u001b[0m\u001b[1;33m)\u001b[0m\u001b[1;33m\u001b[0m\u001b[1;33m\u001b[0m\u001b[0m\n\u001b[0m",
      "\u001b[1;31mTypeError\u001b[0m: can only concatenate str (not \"int\") to str"
     ]
    }
   ],
   "source": [
    "age = input(\"Enter your age \")\n",
    "#input returns string data type. string type and integer type cannot be calculated in python\n",
    "print(\"in one year your age will be\", age + 1)"
   ]
  },
  {
   "cell_type": "code",
   "execution_count": 17,
   "id": "1f6ae8fb",
   "metadata": {},
   "outputs": [
    {
     "name": "stdout",
     "output_type": "stream",
     "text": [
      "Enter first value: 3\n",
      "Enter second value: 4\n",
      "Product of 3 and 4 is 12\n"
     ]
    }
   ],
   "source": [
    "val_1 = int(input(\"Enter first value: \"))\n",
    "val_2 = int(input(\"Enter second value: \"))\n",
    "print(f\"Product of {val_1} and {val_2} is {val_1*val_2}\")"
   ]
  },
  {
   "cell_type": "code",
   "execution_count": 18,
   "id": "9a06642a",
   "metadata": {},
   "outputs": [],
   "source": [
    "comment = \"I would have \\\"thought\\\" you knew better!\""
   ]
  },
  {
   "cell_type": "code",
   "execution_count": 20,
   "id": "97810f19",
   "metadata": {},
   "outputs": [
    {
     "name": "stdout",
     "output_type": "stream",
     "text": [
      "This text includes characters such as '\\' '\"' and \"'\",\n",
      "\tThis is a new line that starts with a tab\n",
      "\t\tThis new line starts with two tabs \n"
     ]
    }
   ],
   "source": [
    "print(\"This text includes characters such as '\\\\' '\\\"' and \\\"'\\\",\\n\\tThis is a new line that starts with a tab\\n\\t\\tThis new line starts with two tabs \")"
   ]
  },
  {
   "cell_type": "code",
   "execution_count": 22,
   "id": "d4861210",
   "metadata": {},
   "outputs": [
    {
     "name": "stdout",
     "output_type": "stream",
     "text": [
      "\\\\\\\\\\\\\\\\\\\\\\\\\\\\\\\\\\\\\\\\\\\\ \n",
      "Hello there!\n",
      "\\\\\\\\\\\\\\\\\\\\\\\\\\\\\\\\\\\\\\\\\\\\\n"
     ]
    }
   ],
   "source": [
    "print(\"\\\\\\\\\\\\\\\\\\\\\\\\\\\\\\\\\\\\\\\\\\\\\\\\\\\\\\\\\\\\\\\\\\\\\\\\\\\\\\\\\\\\\\ \\nHello there!\\n\\\\\\\\\\\\\\\\\\\\\\\\\\\\\\\\\\\\\\\\\\\\\\\\\\\\\\\\\\\\\\\\\\\\\\\\\\\\\\\\\\\\\\\\\")"
   ]
  },
  {
   "cell_type": "code",
   "execution_count": 23,
   "id": "44c42d8e",
   "metadata": {},
   "outputs": [
    {
     "name": "stdout",
     "output_type": "stream",
     "text": [
      "This text spans three lines,\n",
      "and includes both single ('),\n",
      "and double quotes (\").\n",
      "\n"
     ]
    }
   ],
   "source": [
    "print(\"\"\"This text spans three lines,\n",
    "and includes both single ('),\n",
    "and double quotes (\").\n",
    "\"\"\")"
   ]
  },
  {
   "cell_type": "code",
   "execution_count": 1,
   "id": "1abf3805",
   "metadata": {},
   "outputs": [
    {
     "name": "stdout",
     "output_type": "stream",
     "text": [
      "l\n"
     ]
    }
   ],
   "source": [
    "surname = \"Palin\"\n",
    "print(surname[2])"
   ]
  },
  {
   "cell_type": "code",
   "execution_count": 4,
   "id": "9114dbf1",
   "metadata": {},
   "outputs": [
    {
     "name": "stdout",
     "output_type": "stream",
     "text": [
      "e\n"
     ]
    }
   ],
   "source": [
    "surname = \"Palindrome\"\n",
    "tenth_letter = surname[9]\n",
    "\n",
    "print(tenth_letter)"
   ]
  },
  {
   "cell_type": "code",
   "execution_count": 5,
   "id": "184be571",
   "metadata": {},
   "outputs": [
    {
     "name": "stdout",
     "output_type": "stream",
     "text": [
      "i\n"
     ]
    }
   ],
   "source": [
    "surname = \"Palin\"\n",
    "\n",
    "print(surname[-2])"
   ]
  },
  {
   "cell_type": "code",
   "execution_count": 8,
   "id": "a519f6d4",
   "metadata": {},
   "outputs": [
    {
     "name": "stdout",
     "output_type": "stream",
     "text": [
      "alin\n"
     ]
    }
   ],
   "source": [
    "surname = \"Palin\"\n",
    "\n",
    "print(surname[1:])"
   ]
  },
  {
   "cell_type": "code",
   "execution_count": 9,
   "id": "11c641ad",
   "metadata": {},
   "outputs": [
    {
     "name": "stdout",
     "output_type": "stream",
     "text": [
      "Pali\n"
     ]
    }
   ],
   "source": [
    "surname = \"Palin\"\n",
    "\n",
    "print(surname[:-1])"
   ]
  },
  {
   "cell_type": "code",
   "execution_count": 10,
   "id": "ce594c87",
   "metadata": {},
   "outputs": [
    {
     "name": "stdout",
     "output_type": "stream",
     "text": [
      "alin\n"
     ]
    }
   ],
   "source": [
    "print(surname[1:10000])"
   ]
  },
  {
   "cell_type": "code",
   "execution_count": 12,
   "id": "87bd605a",
   "metadata": {},
   "outputs": [
    {
     "data": {
      "text/plain": [
       "[2, 3, 5, 7]"
      ]
     },
     "execution_count": 12,
     "metadata": {},
     "output_type": "execute_result"
    }
   ],
   "source": [
    "primes = [2, 3, 5, 7, 13, 17, 19, 23, 29, 31, 37, 41, 43, 47]\n",
    "primes[:4]"
   ]
  },
  {
   "cell_type": "code",
   "execution_count": 47,
   "id": "7b01f372",
   "metadata": {},
   "outputs": [
    {
     "name": "stdout",
     "output_type": "stream",
     "text": [
      "['Terry', 'John', 'Michael', 'Eric', 'Terry', 'Jon', 'Bob', 'Graham']\n"
     ]
    }
   ],
   "source": [
    "names = [\"Terry\", \"John\", \"Michael\", \"Eric\", \"Terry\", \"Graham\"]\n",
    "new_names = [\"Jon\", \"Bob\"]\n",
    "names[-1:-1] = new_names\n",
    "print(names)"
   ]
  },
  {
   "cell_type": "code",
   "execution_count": 49,
   "id": "0e0b7339",
   "metadata": {},
   "outputs": [
    {
     "name": "stdout",
     "output_type": "stream",
     "text": [
      "[1, 2, 3, 1, 2, 3, 1, 2, 3, 1, 2, 3, 1, 2, 3]\n"
     ]
    }
   ],
   "source": [
    "nums = [1,2,3]*5\n",
    "print(nums)"
   ]
  },
  {
   "cell_type": "code",
   "execution_count": null,
   "id": "e7fb22b6",
   "metadata": {},
   "outputs": [],
   "source": []
  },
  {
   "cell_type": "code",
   "execution_count": null,
   "id": "b1b07dd0",
   "metadata": {},
   "outputs": [],
   "source": []
  }
 ],
 "metadata": {
  "kernelspec": {
   "display_name": "Python 3",
   "language": "python",
   "name": "python3"
  },
  "language_info": {
   "codemirror_mode": {
    "name": "ipython",
    "version": 3
   },
   "file_extension": ".py",
   "mimetype": "text/x-python",
   "name": "python",
   "nbconvert_exporter": "python",
   "pygments_lexer": "ipython3",
   "version": "3.8.8"
  }
 },
 "nbformat": 4,
 "nbformat_minor": 5
}
