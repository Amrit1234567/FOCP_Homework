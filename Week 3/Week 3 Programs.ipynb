{
 "cells": [
  {
   "cell_type": "code",
   "execution_count": 2,
   "id": "11246e41",
   "metadata": {},
   "outputs": [
    {
     "name": "stdout",
     "output_type": "stream",
     "text": [
      "Enter your name: Amrit\n",
      "Hello,  Amrit !\n"
     ]
    }
   ],
   "source": [
    "name = input(\"Enter your name: \")\n",
    "if name:\n",
    "    print(\"Hello, \" , name, \"!\")\n",
    "else:\n",
    "    print(\"Hello Stranger\")"
   ]
  },
  {
   "cell_type": "code",
   "execution_count": 10,
   "id": "e9b60ba2",
   "metadata": {},
   "outputs": [
    {
     "name": "stdout",
     "output_type": "stream",
     "text": [
      "Enter your password ppp\n",
      "Confirm your password ppp\n",
      "Password Set\n"
     ]
    }
   ],
   "source": [
    "password1 = input(\"Enter your password \")\n",
    "password2 = input(\"Confirm your password \")\n",
    "\n",
    "if password1 == password2:\n",
    "    print(\"Password Set\")\n",
    "else:\n",
    "    raise Exception(\"Password not Matched\")"
   ]
  },
  {
   "cell_type": "code",
   "execution_count": 13,
   "id": "e9a03b07",
   "metadata": {},
   "outputs": [
    {
     "name": "stdout",
     "output_type": "stream",
     "text": [
      "Enter your password123456789\n",
      "Confirm your password123456789\n",
      "Password Set\n"
     ]
    }
   ],
   "source": [
    "password1 = input(\"Enter your password \")\n",
    "password2 = input(\"Confirm your password \")\n",
    "\n",
    "if password1 == password2:\n",
    "    length = len(password1)\n",
    "    if 8 <= length <= 12:\n",
    "        print(\"Password Set\")\n",
    "    else:\n",
    "        raise Exception(\"Password should be 8 to 12 characters long\")\n",
    "else:\n",
    "    raise Exception(\"Password not Matched\")"
   ]
  },
  {
   "cell_type": "code",
   "execution_count": 2,
   "id": "d54c6975",
   "metadata": {},
   "outputs": [
    {
     "name": "stdout",
     "output_type": "stream",
     "text": [
      "Enter your password password\n",
      "Confirm your password password\n"
     ]
    },
    {
     "ename": "Exception",
     "evalue": "Password should be 8 to 12 characters long",
     "output_type": "error",
     "traceback": [
      "\u001b[1;31m---------------------------------------------------------------------------\u001b[0m",
      "\u001b[1;31mException\u001b[0m                                 Traceback (most recent call last)",
      "\u001b[1;32m<ipython-input-2-daffb5cae471>\u001b[0m in \u001b[0;36m<module>\u001b[1;34m\u001b[0m\n\u001b[0;32m      8\u001b[0m         \u001b[0mprint\u001b[0m\u001b[1;33m(\u001b[0m\u001b[1;34m\"Password Set\"\u001b[0m\u001b[1;33m)\u001b[0m\u001b[1;33m\u001b[0m\u001b[1;33m\u001b[0m\u001b[0m\n\u001b[0;32m      9\u001b[0m     \u001b[1;32melse\u001b[0m\u001b[1;33m:\u001b[0m\u001b[1;33m\u001b[0m\u001b[1;33m\u001b[0m\u001b[0m\n\u001b[1;32m---> 10\u001b[1;33m         \u001b[1;32mraise\u001b[0m \u001b[0mException\u001b[0m\u001b[1;33m(\u001b[0m\u001b[1;34m\"Password should be 8 to 12 characters long\"\u001b[0m\u001b[1;33m)\u001b[0m\u001b[1;33m\u001b[0m\u001b[1;33m\u001b[0m\u001b[0m\n\u001b[0m\u001b[0;32m     11\u001b[0m \u001b[1;32melse\u001b[0m\u001b[1;33m:\u001b[0m\u001b[1;33m\u001b[0m\u001b[1;33m\u001b[0m\u001b[0m\n\u001b[0;32m     12\u001b[0m     \u001b[1;32mraise\u001b[0m \u001b[0mException\u001b[0m\u001b[1;33m(\u001b[0m\u001b[1;34m\"Password not Matched\"\u001b[0m\u001b[1;33m)\u001b[0m\u001b[1;33m\u001b[0m\u001b[1;33m\u001b[0m\u001b[0m\n",
      "\u001b[1;31mException\u001b[0m: Password should be 8 to 12 characters long"
     ]
    }
   ],
   "source": [
    "BAD_PASSWORDS = ['password', 'letmein', 'sesame', 'hello', 'justinbieber']\n",
    "password1 = input(\"Enter your password \")\n",
    "password2 = input(\"Confirm your password \")\n",
    "\n",
    "if password1 == password2:\n",
    "    length = len(password1)\n",
    "    if 8 <= length <= 12 and password1 not in BAD_PASSWORDS:\n",
    "        print(\"Password Set\")\n",
    "    else:\n",
    "        raise Exception(\"Password should be 8 to 12 characters long or you entered bad password\")\n",
    "else:\n",
    "    raise Exception(\"Password not Matched\")\n"
   ]
  },
  {
   "cell_type": "code",
   "execution_count": 5,
   "id": "bb614aa8",
   "metadata": {},
   "outputs": [
    {
     "name": "stdout",
     "output_type": "stream",
     "text": [
      "Enter your password ASDF\n",
      "Confirm your password ASDF\n",
      "Password does not meet the criteria. Please try again.\n",
      "Enter your password Lamentomef\n",
      "Confirm your password Lamentomef\n",
      "Password Set\n"
     ]
    }
   ],
   "source": [
    "BAD_PASSWORDS = ['password', 'letmein', 'sesame', 'hello', 'justinbieber']\n",
    "message = \"Password does not meet the criteria. Please try again.\"\n",
    "flag = True\n",
    "while flag:\n",
    "    password1 = input(\"Enter your password \")\n",
    "    password2 = input(\"Confirm your password \")\n",
    "    if password1 == password2:\n",
    "        length = len(password1)\n",
    "        if 8 <= length <= 12 and password1 not in BAD_PASSWORDS:\n",
    "            print(\"Password Set\")\n",
    "            flag = False\n",
    "        else:\n",
    "            print(message)\n",
    "    else:\n",
    "        print(message)\n",
    "        "
   ]
  },
  {
   "cell_type": "code",
   "execution_count": 6,
   "id": "91508d8b",
   "metadata": {},
   "outputs": [
    {
     "name": "stdout",
     "output_type": "stream",
     "text": [
      "0 x 7 = 0\n",
      "1 x 7 = 7\n",
      "2 x 7 = 14\n",
      "3 x 7 = 21\n",
      "4 x 7 = 28\n",
      "5 x 7 = 35\n",
      "6 x 7 = 42\n",
      "7 x 7 = 49\n",
      "8 x 7 = 56\n",
      "9 x 7 = 63\n",
      "10 x 7 = 70\n",
      "11 x 7 = 77\n",
      "12 x 7 = 84\n"
     ]
    }
   ],
   "source": [
    "for x in range(13):\n",
    "    result = 7 * x\n",
    "    print(f\"{x} x 7 = {result}\")"
   ]
  },
  {
   "cell_type": "code",
   "execution_count": 2,
   "id": "2f710f5a",
   "metadata": {},
   "outputs": [
    {
     "name": "stdout",
     "output_type": "stream",
     "text": [
      "Enter a number table between 0 and 12 inclusive15\n",
      "Enter number between 0 and 12 inclusive\n",
      "Enter a number table between 0 and 12 inclusive13\n",
      "Enter number between 0 and 12 inclusive\n",
      "Enter a number table between 0 and 12 inclusive-10\n",
      "Enter number between 0 and 12 inclusive\n",
      "Enter a number table between 0 and 12 inclusive23\n",
      "Enter number between 0 and 12 inclusive\n",
      "Enter a number table between 0 and 12 inclusive2\n",
      "0 x 2 = 0\n",
      "1 x 2 = 2\n",
      "2 x 2 = 4\n",
      "3 x 2 = 6\n",
      "4 x 2 = 8\n",
      "5 x 2 = 10\n",
      "6 x 2 = 12\n",
      "7 x 2 = 14\n",
      "8 x 2 = 16\n",
      "9 x 2 = 18\n",
      "10 x 2 = 20\n",
      "11 x 2 = 22\n",
      "12 x 2 = 24\n",
      "Do you want to continue. y/nn\n"
     ]
    }
   ],
   "source": [
    "flag = True\n",
    "while flag:\n",
    "    table = int(input(\"Enter a number table between 0 and 12 inclusive\"))\n",
    "    if 0<=table<=12:\n",
    "        for x in range(13):\n",
    "            result = x * table\n",
    "            print(f\"{x} x {table} = {result}\")\n",
    "        result = input(\"Do you want to continue. y/n\")\n",
    "        if result == \"n\":\n",
    "            flag = False\n",
    "    else:\n",
    "        print(\"Enter number between 0 and 12 inclusive\")"
   ]
  },
  {
   "cell_type": "code",
   "execution_count": 2,
   "id": "7ff84918",
   "metadata": {},
   "outputs": [
    {
     "name": "stdout",
     "output_type": "stream",
     "text": [
      "Enter a number table between 0 and 12 inclusive-5\n",
      "12 x 5 = 60\n",
      "11 x 5 = 55\n",
      "10 x 5 = 50\n",
      "9 x 5 = 45\n",
      "8 x 5 = 40\n",
      "7 x 5 = 35\n",
      "6 x 5 = 30\n",
      "5 x 5 = 25\n",
      "4 x 5 = 20\n",
      "3 x 5 = 15\n",
      "2 x 5 = 10\n",
      "1 x 5 = 5\n",
      "0 x 5 = 0\n",
      "Do you want to continue. y/n n\n"
     ]
    }
   ],
   "source": [
    "flag = True\n",
    "while flag:\n",
    "    table = int(input(\"Enter a number table between 0 and 12 inclusive\"))\n",
    "    if 0<=table<=12:\n",
    "        for x in range(13):\n",
    "            result = x * table\n",
    "            print(f\"{x} x {table} = {result}\")\n",
    "    elif -12<=table< 0:\n",
    "        for x in range(12, -1, -1):\n",
    "            result = x * (-table)\n",
    "            print(f\"{x} x {-table} = {result}\")\n",
    "    else:\n",
    "        print(\"Enter number between 0 and 12 inclusive\")\n",
    "    \n",
    "    result = input(\"Do you want to continue. y/n \")\n",
    "    if result.lower() == \"n\":\n",
    "        flag = False"
   ]
  },
  {
   "cell_type": "code",
   "execution_count": 37,
   "id": "7d69bfa1",
   "metadata": {},
   "outputs": [
    {
     "data": {
      "text/plain": [
       "'11110011001'"
      ]
     },
     "execution_count": 37,
     "metadata": {},
     "output_type": "execute_result"
    }
   ],
   "source": [
    "def to_binary(num):\n",
    "    string = \"\"\n",
    "    while num!=0:\n",
    "        rem = num%2\n",
    "        num //= 2\n",
    "        string += str(rem)\n",
    "    return string[::-1]\n",
    "to_binary(1945)"
   ]
  },
  {
   "cell_type": "code",
   "execution_count": 39,
   "id": "f92dc3f8",
   "metadata": {},
   "outputs": [
    {
     "data": {
      "text/plain": [
       "22"
      ]
     },
     "execution_count": 39,
     "metadata": {},
     "output_type": "execute_result"
    }
   ],
   "source": [
    "def to_decimal(bin_num):\n",
    "    bin_num = bin_num[::-1]\n",
    "    num = 0\n",
    "    for x in range(len(bin_num)):\n",
    "        digit = int(bin_num[x])\n",
    "        num += digit * 2**x\n",
    "    return num\n",
    "to_decimal('10110')"
   ]
  },
  {
   "cell_type": "code",
   "execution_count": 59,
   "id": "dff7bfc0",
   "metadata": {},
   "outputs": [
    {
     "data": {
      "text/plain": [
       "3"
      ]
     },
     "execution_count": 59,
     "metadata": {},
     "output_type": "execute_result"
    }
   ],
   "source": [
    "to_decimal('0011')"
   ]
  },
  {
   "cell_type": "code",
   "execution_count": 67,
   "id": "5ce747be",
   "metadata": {},
   "outputs": [
    {
     "data": {
      "text/plain": [
       "'110'"
      ]
     },
     "execution_count": 67,
     "metadata": {},
     "output_type": "execute_result"
    }
   ],
   "source": [
    "to_binary(6)"
   ]
  },
  {
   "cell_type": "code",
   "execution_count": null,
   "id": "0f2aa35b",
   "metadata": {},
   "outputs": [],
   "source": []
  }
 ],
 "metadata": {
  "kernelspec": {
   "display_name": "Python 3",
   "language": "python",
   "name": "python3"
  },
  "language_info": {
   "codemirror_mode": {
    "name": "ipython",
    "version": 3
   },
   "file_extension": ".py",
   "mimetype": "text/x-python",
   "name": "python",
   "nbconvert_exporter": "python",
   "pygments_lexer": "ipython3",
   "version": "3.8.8"
  }
 },
 "nbformat": 4,
 "nbformat_minor": 5
}
