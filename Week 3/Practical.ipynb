{
 "cells": [
  {
   "cell_type": "code",
   "execution_count": 1,
   "id": "707319e8",
   "metadata": {},
   "outputs": [
    {
     "data": {
      "text/plain": [
       "True"
      ]
     },
     "execution_count": 1,
     "metadata": {},
     "output_type": "execute_result"
    }
   ],
   "source": [
    "10<100"
   ]
  },
  {
   "cell_type": "code",
   "execution_count": 2,
   "id": "0edf6a7e",
   "metadata": {},
   "outputs": [
    {
     "data": {
      "text/plain": [
       "False"
      ]
     },
     "execution_count": 2,
     "metadata": {},
     "output_type": "execute_result"
    }
   ],
   "source": [
    "100!=100"
   ]
  },
  {
   "cell_type": "code",
   "execution_count": 3,
   "id": "ac1c8319",
   "metadata": {},
   "outputs": [
    {
     "data": {
      "text/plain": [
       "True"
      ]
     },
     "execution_count": 3,
     "metadata": {},
     "output_type": "execute_result"
    }
   ],
   "source": [
    "50>=50"
   ]
  },
  {
   "cell_type": "code",
   "execution_count": 5,
   "id": "a8dc8c91",
   "metadata": {},
   "outputs": [
    {
     "name": "stdout",
     "output_type": "stream",
     "text": [
      "Greater than or equal to 21 and less than 31\n"
     ]
    }
   ],
   "source": [
    "age = 23\n",
    "if age < 18:\n",
    "    print(\"Less than 18\")\n",
    "elif age < 21:\n",
    "    print(\"Greater than or equal to 18 and less than 21\")\n",
    "elif age < 31:\n",
    "    print(\"Greater than or equal to 21 and less than 31\")\n",
    "else:\n",
    "    print(\"Greater than 31\")"
   ]
  },
  {
   "cell_type": "code",
   "execution_count": 6,
   "id": "c3199d41",
   "metadata": {},
   "outputs": [
    {
     "data": {
      "text/plain": [
       "True"
      ]
     },
     "execution_count": 6,
     "metadata": {},
     "output_type": "execute_result"
    }
   ],
   "source": [
    "\"a\" < \"b\""
   ]
  },
  {
   "cell_type": "code",
   "execution_count": 12,
   "id": "ecc17674",
   "metadata": {},
   "outputs": [
    {
     "data": {
      "text/plain": [
       "False"
      ]
     },
     "execution_count": 12,
     "metadata": {},
     "output_type": "execute_result"
    }
   ],
   "source": [
    "\"b\" < \"a\""
   ]
  },
  {
   "cell_type": "code",
   "execution_count": 15,
   "id": "cfaf414e",
   "metadata": {},
   "outputs": [
    {
     "data": {
      "text/plain": [
       "True"
      ]
     },
     "execution_count": 15,
     "metadata": {},
     "output_type": "execute_result"
    }
   ],
   "source": [
    "\"John\" < \"Terry\""
   ]
  },
  {
   "cell_type": "code",
   "execution_count": 16,
   "id": "da0f3297",
   "metadata": {},
   "outputs": [
    {
     "data": {
      "text/plain": [
       "False"
      ]
     },
     "execution_count": 16,
     "metadata": {},
     "output_type": "execute_result"
    }
   ],
   "source": [
    "\"john\" < \"Terry\""
   ]
  },
  {
   "cell_type": "code",
   "execution_count": 19,
   "id": "98720dde",
   "metadata": {},
   "outputs": [
    {
     "data": {
      "text/plain": [
       "True"
      ]
     },
     "execution_count": 19,
     "metadata": {},
     "output_type": "execute_result"
    }
   ],
   "source": [
    "5 < 10.2"
   ]
  },
  {
   "cell_type": "code",
   "execution_count": 20,
   "id": "daf5f52a",
   "metadata": {},
   "outputs": [
    {
     "ename": "TypeError",
     "evalue": "'<' not supported between instances of 'int' and 'str'",
     "output_type": "error",
     "traceback": [
      "\u001b[1;31m---------------------------------------------------------------------------\u001b[0m",
      "\u001b[1;31mTypeError\u001b[0m                                 Traceback (most recent call last)",
      "\u001b[1;32m<ipython-input-20-f6cf15ea1682>\u001b[0m in \u001b[0;36m<module>\u001b[1;34m\u001b[0m\n\u001b[1;32m----> 1\u001b[1;33m \u001b[1;36m5\u001b[0m \u001b[1;33m<\u001b[0m \u001b[1;34m\"Monty\"\u001b[0m\u001b[1;33m\u001b[0m\u001b[1;33m\u001b[0m\u001b[0m\n\u001b[0m",
      "\u001b[1;31mTypeError\u001b[0m: '<' not supported between instances of 'int' and 'str'"
     ]
    }
   ],
   "source": [
    "5 < \"Monty\""
   ]
  },
  {
   "cell_type": "code",
   "execution_count": 21,
   "id": "923f21b9",
   "metadata": {},
   "outputs": [
    {
     "ename": "TypeError",
     "evalue": "'<' not supported between instances of 'int' and 'str'",
     "output_type": "error",
     "traceback": [
      "\u001b[1;31m---------------------------------------------------------------------------\u001b[0m",
      "\u001b[1;31mTypeError\u001b[0m                                 Traceback (most recent call last)",
      "\u001b[1;32m<ipython-input-21-c0107293aa58>\u001b[0m in \u001b[0;36m<module>\u001b[1;34m\u001b[0m\n\u001b[1;32m----> 1\u001b[1;33m \u001b[1;36m5\u001b[0m \u001b[1;33m<\u001b[0m \u001b[1;34m\"5\"\u001b[0m\u001b[1;33m\u001b[0m\u001b[1;33m\u001b[0m\u001b[0m\n\u001b[0m",
      "\u001b[1;31mTypeError\u001b[0m: '<' not supported between instances of 'int' and 'str'"
     ]
    }
   ],
   "source": [
    "5 < \"5\""
   ]
  },
  {
   "cell_type": "code",
   "execution_count": 27,
   "id": "4f28a42a",
   "metadata": {},
   "outputs": [
    {
     "name": "stdout",
     "output_type": "stream",
     "text": [
      "True\n",
      "False\n",
      "False\n"
     ]
    }
   ],
   "source": [
    "age = 30\n",
    "print(age>=18 and age<=65)\n",
    "print(age<18 or age>65)\n",
    "print(not age > 18)"
   ]
  },
  {
   "cell_type": "code",
   "execution_count": 28,
   "id": "4cfbe14a",
   "metadata": {},
   "outputs": [
    {
     "data": {
      "text/plain": [
       "False"
      ]
     },
     "execution_count": 28,
     "metadata": {},
     "output_type": "execute_result"
    }
   ],
   "source": [
    "age = 30\n",
    "\n",
    "(age >=18 and age <=65) and (not age==30)"
   ]
  },
  {
   "cell_type": "code",
   "execution_count": 31,
   "id": "3c00274f",
   "metadata": {},
   "outputs": [
    {
     "name": "stdout",
     "output_type": "stream",
     "text": [
      "True\n",
      "True\n"
     ]
    }
   ],
   "source": [
    "weight = 129\n",
    "height = 150\n",
    "print(100 < weight < 200)\n",
    "print(131 < height < 160)"
   ]
  },
  {
   "cell_type": "code",
   "execution_count": 2,
   "id": "6342110e",
   "metadata": {},
   "outputs": [
    {
     "data": {
      "text/plain": [
       "True"
      ]
     },
     "execution_count": 2,
     "metadata": {},
     "output_type": "execute_result"
    }
   ],
   "source": [
    "names = [\"Terry\", \"John\", \"Michael\", \"Eric\", \"Terry\", \"Graham\"]\n",
    "\"Amrit\" not in names"
   ]
  },
  {
   "cell_type": "code",
   "execution_count": 3,
   "id": "2e8ad2ea",
   "metadata": {},
   "outputs": [
    {
     "data": {
      "text/plain": [
       "True"
      ]
     },
     "execution_count": 3,
     "metadata": {},
     "output_type": "execute_result"
    }
   ],
   "source": [
    "\"Eric\" in names"
   ]
  },
  {
   "cell_type": "code",
   "execution_count": 9,
   "id": "d16d02b9",
   "metadata": {},
   "outputs": [
    {
     "name": "stdout",
     "output_type": "stream",
     "text": [
      "Enter your age: 23\n",
      "You are still young\n"
     ]
    }
   ],
   "source": [
    "age = int(input(\"Enter your age: \"))\n",
    "if 18<=age<=30:\n",
    "    print(\"You are still young\")"
   ]
  },
  {
   "cell_type": "code",
   "execution_count": 11,
   "id": "4174fc7a",
   "metadata": {},
   "outputs": [
    {
     "name": "stdout",
     "output_type": "stream",
     "text": [
      "Enter your age: 38\n",
      "You are not very old yet\n"
     ]
    }
   ],
   "source": [
    "age = int(input(\"Enter your age: \"))\n",
    "if 18<=age<=30:\n",
    "    print(\"You are still young\")\n",
    "elif 30<age<40:\n",
    "    print(\"You are not very old yet\")"
   ]
  },
  {
   "cell_type": "code",
   "execution_count": 12,
   "id": "329656ab",
   "metadata": {},
   "outputs": [
    {
     "name": "stdout",
     "output_type": "stream",
     "text": [
      "Enter your name: \n",
      "Not entered name\n"
     ]
    }
   ],
   "source": [
    "name = input(\"Enter your name: \")\n",
    "if name!=\"\":\n",
    "    print(\"Your name is\", name)\n",
    "else:\n",
    "    print(\"Not entered name\")"
   ]
  },
  {
   "cell_type": "code",
   "execution_count": 14,
   "id": "07c5a4ea",
   "metadata": {},
   "outputs": [
    {
     "name": "stdout",
     "output_type": "stream",
     "text": [
      "You are not an adult yet!\n"
     ]
    }
   ],
   "source": [
    "age = 17\n",
    "\"you are an adult\" if age>=18 else print(\"You are not an adult yet!\")"
   ]
  },
  {
   "cell_type": "code",
   "execution_count": 6,
   "id": "73a2c533",
   "metadata": {},
   "outputs": [
    {
     "name": "stdout",
     "output_type": "stream",
     "text": [
      "2 to the power 2 = 4\n",
      "4 to the power 4 = 256\n",
      "6 to the power 6 = 46656\n",
      "8 to the power 8 = 16777216\n",
      "10 to the power 10 = 10000000000\n"
     ]
    }
   ],
   "source": [
    "for x in range(2,11,2):\n",
    "    print(f\"{x} to the power {x} = {x**x}\")"
   ]
  },
  {
   "cell_type": "code",
   "execution_count": 11,
   "id": "f797f132",
   "metadata": {},
   "outputs": [
    {
     "name": "stdout",
     "output_type": "stream",
     "text": [
      "All numbers processed\n",
      "313\n"
     ]
    }
   ],
   "source": [
    "numbers = [10, 20 , 30, 90, 100, 30, 22, 11]\n",
    "total = 0\n",
    "for x in numbers:\n",
    "    if x > 100:\n",
    "        break\n",
    "    total += x\n",
    "else:\n",
    "    print(\"All numbers processed\")\n",
    "print(total)"
   ]
  },
  {
   "cell_type": "code",
   "execution_count": 15,
   "id": "9822449d",
   "metadata": {},
   "outputs": [
    {
     "name": "stdout",
     "output_type": "stream",
     "text": [
      "Enter a value between 1 and 105\n",
      "The value was in the expected range\n"
     ]
    }
   ],
   "source": [
    "num = int(input(\"Enter a value between 1 and 10\"))\n",
    "if 1<=num<=10:\n",
    "    print(\"The value was in the expected range\")\n",
    "else:\n",
    "    print(\"The value is not in the expected range\")\n"
   ]
  },
  {
   "cell_type": "code",
   "execution_count": null,
   "id": "555dc2bd",
   "metadata": {},
   "outputs": [],
   "source": []
  }
 ],
 "metadata": {
  "kernelspec": {
   "display_name": "Python 3",
   "language": "python",
   "name": "python3"
  },
  "language_info": {
   "codemirror_mode": {
    "name": "ipython",
    "version": 3
   },
   "file_extension": ".py",
   "mimetype": "text/x-python",
   "name": "python",
   "nbconvert_exporter": "python",
   "pygments_lexer": "ipython3",
   "version": "3.8.8"
  }
 },
 "nbformat": 4,
 "nbformat_minor": 5
}
